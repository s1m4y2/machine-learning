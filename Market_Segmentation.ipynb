{
 "cells": [
  {
   "cell_type": "markdown",
   "metadata": {},
   "source": [
    "Her bir müşteri grubunun (kümelerin) hangi ülkelere ait olduğunu ve genel olarak nasıl bir Star Count ortalamasına sahip olduğunu anlamak."
   ]
  },
  {
   "cell_type": "code",
   "execution_count": 4,
   "metadata": {},
   "outputs": [],
   "source": [
    "import pandas as pd\n",
    "from sklearn.cluster import KMeans\n",
    "from sklearn.preprocessing import StandardScaler\n",
    "import numpy as np"
   ]
  },
  {
   "cell_type": "code",
   "execution_count": 5,
   "metadata": {},
   "outputs": [],
   "source": [
    "df = pd.read_csv('fashionnova_reviews.csv')"
   ]
  },
  {
   "cell_type": "code",
   "execution_count": 6,
   "metadata": {},
   "outputs": [],
   "source": [
    "def extract_star_count(rating):\n",
    "    try:\n",
    "        # \"Rated 5 out of 5 stars\" formatındaki değerlerden sayıları çıkarır\n",
    "        return int(rating.split(' ')[1])\n",
    "    except Exception as e:\n",
    "        # Hata durumunda NaN döndürür\n",
    "        print(f\"Error parsing rating: {rating} - {e}\")\n",
    "        return np.nan"
   ]
  },
  {
   "cell_type": "code",
   "execution_count": 7,
   "metadata": {},
   "outputs": [],
   "source": [
    "df['Star Count'] = df['Rating'].apply(extract_star_count)"
   ]
  },
  {
   "cell_type": "code",
   "execution_count": 8,
   "metadata": {},
   "outputs": [],
   "source": [
    "df.dropna(subset=['Star Count'], inplace=True)"
   ]
  },
  {
   "cell_type": "code",
   "execution_count": 9,
   "metadata": {},
   "outputs": [],
   "source": [
    "df = df[['Country', 'Star Count']]\n",
    "df.dropna(inplace=True)"
   ]
  },
  {
   "cell_type": "code",
   "execution_count": 10,
   "metadata": {},
   "outputs": [],
   "source": [
    "df = pd.get_dummies(df, columns=['Country'])"
   ]
  },
  {
   "cell_type": "code",
   "execution_count": 11,
   "metadata": {},
   "outputs": [],
   "source": [
    "scaler = StandardScaler()\n",
    "scaled_features = scaler.fit_transform(df)"
   ]
  },
  {
   "cell_type": "code",
   "execution_count": 12,
   "metadata": {},
   "outputs": [],
   "source": [
    "kmeans = KMeans(n_clusters=5, random_state=42)\n",
    "df['Cluster'] = kmeans.fit_predict(scaled_features)"
   ]
  },
  {
   "cell_type": "code",
   "execution_count": 13,
   "metadata": {},
   "outputs": [
    {
     "name": "stdout",
     "output_type": "stream",
     "text": [
      "         Star Count  Country_AE  Country_AF  Country_AG  Country_AI  \\\n",
      "Cluster                                                               \n",
      "0          3.777913     0.00000    0.000000    0.000000    0.000000   \n",
      "1          3.732143     0.00000    0.000000    0.000000    0.000000   \n",
      "2          4.288513     0.00056    0.000016    0.000327    0.000101   \n",
      "3          3.946429     0.00000    0.000000    0.000000    0.000000   \n",
      "4          2.947368     0.00000    0.000000    0.000000    0.000000   \n",
      "\n",
      "         Country_AL  Country_AM  Country_AO  Country_AR  Country_AS  ...  \\\n",
      "Cluster                                                              ...   \n",
      "0          0.000000    0.000000    0.000000    0.000000    0.000000  ...   \n",
      "1          0.000000    0.000000    0.000000    0.000000    0.000000  ...   \n",
      "2          0.000132    0.000016    0.000109    0.000047    0.000016  ...   \n",
      "3          0.000000    0.000000    0.000000    0.000000    0.000000  ...   \n",
      "4          0.000000    0.000000    0.000000    0.000000    0.000000  ...   \n",
      "\n",
      "         Country_VC  Country_VE  Country_VG  Country_VI  Country_VN  \\\n",
      "Cluster                                                               \n",
      "0           0.00000    0.000000    0.000000    0.000000     0.00000   \n",
      "1           0.00000    0.000000    0.000000    0.000000     0.00000   \n",
      "2           0.00014    0.000156    0.000117    0.000646     0.00007   \n",
      "3           0.00000    0.000000    0.000000    0.000000     0.00000   \n",
      "4           0.00000    0.000000    0.000000    0.000000     0.00000   \n",
      "\n",
      "         Country_VU  Country_XK  Country_ZA  Country_ZM  Country_ZW  \n",
      "Cluster                                                              \n",
      "0          0.000000    0.000000    0.000000    0.000000    0.000000  \n",
      "1          0.000000    0.000000    0.000000    0.000000    0.000000  \n",
      "2          0.000008    0.000023    0.000685    0.000078    0.000016  \n",
      "3          0.000000    0.000000    0.000000    0.000000    0.000000  \n",
      "4          0.000000    0.000000    0.000000    0.000000    0.000000  \n",
      "\n",
      "[5 rows x 182 columns]\n"
     ]
    }
   ],
   "source": [
    "print(df.groupby('Cluster').mean())"
   ]
  }
 ],
 "metadata": {
  "kernelspec": {
   "display_name": "Python 3",
   "language": "python",
   "name": "python3"
  },
  "language_info": {
   "codemirror_mode": {
    "name": "ipython",
    "version": 3
   },
   "file_extension": ".py",
   "mimetype": "text/x-python",
   "name": "python",
   "nbconvert_exporter": "python",
   "pygments_lexer": "ipython3",
   "version": "3.12.5"
  }
 },
 "nbformat": 4,
 "nbformat_minor": 2
}
