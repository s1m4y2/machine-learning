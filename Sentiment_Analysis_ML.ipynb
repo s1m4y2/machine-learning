{
 "cells": [
  {
   "cell_type": "code",
   "execution_count": 28,
   "metadata": {},
   "outputs": [],
   "source": [
    "import pandas as pd\n",
    "import numpy as np\n",
    "import matplotlib.pyplot as plt\n",
    "import seaborn as sns"
   ]
  },
  {
   "cell_type": "code",
   "execution_count": 29,
   "metadata": {},
   "outputs": [
    {
     "name": "stderr",
     "output_type": "stream",
     "text": [
      "[nltk_data] Downloading package stopwords to\n",
      "[nltk_data]     C:\\Users\\Simay\\AppData\\Roaming\\nltk_data...\n",
      "[nltk_data]   Package stopwords is already up-to-date!\n",
      "[nltk_data] Downloading package omw-1.4 to\n",
      "[nltk_data]     C:\\Users\\Simay\\AppData\\Roaming\\nltk_data...\n"
     ]
    }
   ],
   "source": [
    "import string\n",
    "import nltk\n",
    "nltk.download('stopwords')\n",
    "nltk.download('omw-1.4')\n",
    "from nltk.corpus import stopwords"
   ]
  },
  {
   "cell_type": "code",
   "execution_count": 30,
   "metadata": {},
   "outputs": [],
   "source": [
    "from sklearn.model_selection import train_test_split\n",
    "from sklearn.feature_extraction.text import CountVectorizer\n",
    "from sklearn.metrics import classification_report, confusion_matrix, accuracy_score\n",
    "from sklearn.naive_bayes import MultinomialNB\n",
    "from sklearn.linear_model import SGDClassifier\n",
    "from sklearn.linear_model import LogisticRegression"
   ]
  },
  {
   "cell_type": "code",
   "execution_count": 66,
   "metadata": {},
   "outputs": [],
   "source": [
    "df = pd.read_csv('fashionnova_reviews.csv')\n",
    "df = df.iloc[:25000,1:]"
   ]
  },
  {
   "cell_type": "code",
   "execution_count": 67,
   "metadata": {},
   "outputs": [
    {
     "data": {
      "text/html": [
       "<div>\n",
       "<style scoped>\n",
       "    .dataframe tbody tr th:only-of-type {\n",
       "        vertical-align: middle;\n",
       "    }\n",
       "\n",
       "    .dataframe tbody tr th {\n",
       "        vertical-align: top;\n",
       "    }\n",
       "\n",
       "    .dataframe thead th {\n",
       "        text-align: right;\n",
       "    }\n",
       "</style>\n",
       "<table border=\"1\" class=\"dataframe\">\n",
       "  <thead>\n",
       "    <tr style=\"text-align: right;\">\n",
       "      <th></th>\n",
       "      <th>Profile Link</th>\n",
       "      <th>Country</th>\n",
       "      <th>Review Count</th>\n",
       "      <th>Review Date</th>\n",
       "      <th>Rating</th>\n",
       "      <th>Review Title</th>\n",
       "      <th>Review Text</th>\n",
       "      <th>Date of Experience</th>\n",
       "    </tr>\n",
       "  </thead>\n",
       "  <tbody>\n",
       "    <tr>\n",
       "      <th>0</th>\n",
       "      <td>/users/66c78240087b6269ffbcb5fb</td>\n",
       "      <td>US</td>\n",
       "      <td>1 review</td>\n",
       "      <td>2024-08-22T20:24:02.000Z</td>\n",
       "      <td>Rated 5 out of 5 stars</td>\n",
       "      <td>I love ordering from fashion nova</td>\n",
       "      <td>I love ordering from fashion nova. The clothes...</td>\n",
       "      <td>August 22, 2024</td>\n",
       "    </tr>\n",
       "    <tr>\n",
       "      <th>1</th>\n",
       "      <td>/users/6618fdb53d4198001210cbe7</td>\n",
       "      <td>VG</td>\n",
       "      <td>3 reviews</td>\n",
       "      <td>2024-08-21T05:43:11.000Z</td>\n",
       "      <td>Rated 5 out of 5 stars</td>\n",
       "      <td>Top tier content for fashion nova</td>\n",
       "      <td>Always amazing clothes and the fast shipping i...</td>\n",
       "      <td>August 18, 2024</td>\n",
       "    </tr>\n",
       "    <tr>\n",
       "      <th>2</th>\n",
       "      <td>/users/64e9595206be1a001244ff73</td>\n",
       "      <td>US</td>\n",
       "      <td>3 reviews</td>\n",
       "      <td>2024-08-21T17:09:14.000Z</td>\n",
       "      <td>Rated 5 out of 5 stars</td>\n",
       "      <td>Prices and quality of products are…</td>\n",
       "      <td>Prices and quality of products are GREAT Would...</td>\n",
       "      <td>August 21, 2024</td>\n",
       "    </tr>\n",
       "    <tr>\n",
       "      <th>3</th>\n",
       "      <td>/users/66c58ad1c6ab36352a08f57a</td>\n",
       "      <td>US</td>\n",
       "      <td>1 review</td>\n",
       "      <td>2024-08-21T08:36:03.000Z</td>\n",
       "      <td>Rated 5 out of 5 stars</td>\n",
       "      <td>Great customer service</td>\n",
       "      <td>Great customer service. I was helped until the...</td>\n",
       "      <td>August 20, 2024</td>\n",
       "    </tr>\n",
       "    <tr>\n",
       "      <th>4</th>\n",
       "      <td>/users/60ad4b6ef3788e001adbb8e3</td>\n",
       "      <td>US</td>\n",
       "      <td>5 reviews</td>\n",
       "      <td>2024-08-22T00:46:16.000Z</td>\n",
       "      <td>Rated 3 out of 5 stars</td>\n",
       "      <td>False advertising</td>\n",
       "      <td>Disappointing experience. You don’t live up to...</td>\n",
       "      <td>August 21, 2024</td>\n",
       "    </tr>\n",
       "  </tbody>\n",
       "</table>\n",
       "</div>"
      ],
      "text/plain": [
       "                      Profile Link Country Review Count  \\\n",
       "0  /users/66c78240087b6269ffbcb5fb      US     1 review   \n",
       "1  /users/6618fdb53d4198001210cbe7      VG    3 reviews   \n",
       "2  /users/64e9595206be1a001244ff73      US    3 reviews   \n",
       "3  /users/66c58ad1c6ab36352a08f57a      US     1 review   \n",
       "4  /users/60ad4b6ef3788e001adbb8e3      US    5 reviews   \n",
       "\n",
       "                Review Date                  Rating  \\\n",
       "0  2024-08-22T20:24:02.000Z  Rated 5 out of 5 stars   \n",
       "1  2024-08-21T05:43:11.000Z  Rated 5 out of 5 stars   \n",
       "2  2024-08-21T17:09:14.000Z  Rated 5 out of 5 stars   \n",
       "3  2024-08-21T08:36:03.000Z  Rated 5 out of 5 stars   \n",
       "4  2024-08-22T00:46:16.000Z  Rated 3 out of 5 stars   \n",
       "\n",
       "                          Review Title  \\\n",
       "0    I love ordering from fashion nova   \n",
       "1   Top tier content for fashion nova    \n",
       "2  Prices and quality of products are…   \n",
       "3               Great customer service   \n",
       "4                    False advertising   \n",
       "\n",
       "                                         Review Text Date of Experience  \n",
       "0  I love ordering from fashion nova. The clothes...    August 22, 2024  \n",
       "1  Always amazing clothes and the fast shipping i...    August 18, 2024  \n",
       "2  Prices and quality of products are GREAT Would...    August 21, 2024  \n",
       "3  Great customer service. I was helped until the...    August 20, 2024  \n",
       "4  Disappointing experience. You don’t live up to...    August 21, 2024  "
      ]
     },
     "execution_count": 67,
     "metadata": {},
     "output_type": "execute_result"
    }
   ],
   "source": [
    "df.head()"
   ]
  },
  {
   "cell_type": "code",
   "execution_count": 69,
   "metadata": {},
   "outputs": [],
   "source": [
    "stopwords_list = stopwords.words('english')\n",
    "\n",
    "df = df.dropna()\n",
    "\n",
    "df['review_cleaned'] = df['Review Text'].str.replace('[^a-zA-Z0-9 ]', '', regex=True)  # regex=True, eski versiyonlarda gerekebilir\n",
    "df['review_cleaned'] = df['review_cleaned'].str.lower()\n",
    "df['review_cleaned'] = df['review_cleaned'].str.split(' ')\n",
    "df['review_cleaned'] = df['review_cleaned'].apply(lambda x: [item for item in x if item not in stopwords_list])"
   ]
  },
  {
   "cell_type": "code",
   "execution_count": 70,
   "metadata": {},
   "outputs": [
    {
     "data": {
      "text/plain": [
       "0    [love, ordering, fashion, nova, clothes, good,...\n",
       "1    [always, amazing, clothes, fast, shipping, rea...\n",
       "2    [prices, quality, products, great, would, love...\n",
       "3    [great, customer, service, helped, fashion, no...\n",
       "4    [disappointing, experience, dont, live, advert...\n",
       "Name: review_cleaned, dtype: object"
      ]
     },
     "execution_count": 70,
     "metadata": {},
     "output_type": "execute_result"
    }
   ],
   "source": [
    "df['review_cleaned'].head()"
   ]
  },
  {
   "cell_type": "code",
   "execution_count": 71,
   "metadata": {},
   "outputs": [],
   "source": [
    "from nltk.stem.snowball import SnowballStemmer\n",
    "stemmer = SnowballStemmer(\"english\")\n",
    "\n",
    "df['stemmed'] = df['review_cleaned'].apply(lambda x: [stemmer.stem(y) for y in x])\n",
    "df.stemmed = df.stemmed.apply(' '.join)"
   ]
  },
  {
   "cell_type": "code",
   "execution_count": 78,
   "metadata": {},
   "outputs": [
    {
     "name": "stdout",
     "output_type": "stream",
     "text": [
      "int64\n",
      "0    5\n",
      "1    5\n",
      "2    5\n",
      "3    5\n",
      "4    3\n",
      "5    5\n",
      "6    5\n",
      "7    5\n",
      "8    5\n",
      "9    3\n",
      "Name: Star Count, dtype: int64\n"
     ]
    }
   ],
   "source": [
    "import re\n",
    "\n",
    "# Rating verilerini sayısal formata dönüştürme fonksiyonu\n",
    "def extract_star_rating(rating_str):\n",
    "    match = re.search(r'Rated (\\d) out of 5 stars', rating_str)\n",
    "    if match:\n",
    "        return int(match.group(1))\n",
    "    else:\n",
    "        return None\n",
    "\n",
    "# Rating sütununu dönüştürme\n",
    "df['Star Count'] = df['Rating'].apply(extract_star_rating)\n",
    "\n",
    "# Boş değerleri kaldırma\n",
    "df = df.dropna(subset=['Star Count'])\n",
    "\n",
    "# İsterseniz Rating sütununu kaldırabilir ve yeni Star Count sütununu kullanabilirsiniz\n",
    "df = df.drop(columns=['Rating'])\n",
    "\n",
    "# Star Count sütununun veri tipini kontrol etme\n",
    "print(df['Star Count'].dtype)\n",
    "print(df['Star Count'].head(10))"
   ]
  },
  {
   "cell_type": "code",
   "execution_count": 80,
   "metadata": {},
   "outputs": [],
   "source": [
    "cv = CountVectorizer(max_features = 3000)\n",
    "X = cv.fit_transform(df.stemmed).toarray()\n",
    "y = df['Star Count']"
   ]
  },
  {
   "cell_type": "code",
   "execution_count": 82,
   "metadata": {},
   "outputs": [
    {
     "data": {
      "text/plain": [
       "array([[0, 0, 0, ..., 0, 0, 0],\n",
       "       [0, 0, 0, ..., 0, 0, 0],\n",
       "       [0, 0, 0, ..., 0, 0, 0],\n",
       "       ...,\n",
       "       [0, 0, 0, ..., 0, 0, 0],\n",
       "       [0, 0, 0, ..., 0, 0, 0],\n",
       "       [0, 0, 0, ..., 0, 0, 0]], dtype=int64)"
      ]
     },
     "execution_count": 82,
     "metadata": {},
     "output_type": "execute_result"
    }
   ],
   "source": [
    "X"
   ]
  },
  {
   "cell_type": "code",
   "execution_count": 81,
   "metadata": {},
   "outputs": [
    {
     "data": {
      "text/plain": [
       "0        5\n",
       "1        5\n",
       "2        5\n",
       "3        5\n",
       "4        3\n",
       "        ..\n",
       "24995    5\n",
       "24996    5\n",
       "24997    3\n",
       "24998    5\n",
       "24999    5\n",
       "Name: Star Count, Length: 24991, dtype: int64"
      ]
     },
     "execution_count": 81,
     "metadata": {},
     "output_type": "execute_result"
    }
   ],
   "source": [
    "y"
   ]
  },
  {
   "cell_type": "code",
   "execution_count": 83,
   "metadata": {},
   "outputs": [],
   "source": [
    "X_train, X_test, y_train, y_test = train_test_split(X, y, test_size=0.33, random_state=42)"
   ]
  },
  {
   "cell_type": "code",
   "execution_count": 84,
   "metadata": {},
   "outputs": [],
   "source": [
    "#Multinomial Naive Bayes\n",
    "mnb = MultinomialNB()\n",
    "mnb.fit(X_train,y_train)\n",
    "y_pred = mnb.predict(X_test)"
   ]
  },
  {
   "cell_type": "code",
   "execution_count": 85,
   "metadata": {},
   "outputs": [
    {
     "name": "stdout",
     "output_type": "stream",
     "text": [
      "0.745635305528613\n",
      "[[ 467   24   93   12  108]\n",
      " [ 122   15   65   12   60]\n",
      " [ 140   23  166   73  169]\n",
      " [  61    6   59  132  684]\n",
      " [ 101   13   71  202 5370]]\n",
      "              precision    recall  f1-score   support\n",
      "\n",
      "           1       0.52      0.66      0.59       704\n",
      "           2       0.19      0.05      0.08       274\n",
      "           3       0.37      0.29      0.32       571\n",
      "           4       0.31      0.14      0.19       942\n",
      "           5       0.84      0.93      0.88      5757\n",
      "\n",
      "    accuracy                           0.75      8248\n",
      "   macro avg       0.44      0.42      0.41      8248\n",
      "weighted avg       0.70      0.75      0.71      8248\n",
      "\n"
     ]
    }
   ],
   "source": [
    "print(accuracy_score(y_test, y_pred))\n",
    "print(confusion_matrix(y_test, y_pred))\n",
    "print(classification_report(y_test, y_pred))"
   ]
  },
  {
   "cell_type": "code",
   "execution_count": 86,
   "metadata": {},
   "outputs": [],
   "source": [
    "#Logistik Regression\n",
    "lgr = LogisticRegression()\n",
    "lgr.fit(X_train, y_train)\n",
    "y_pred = lgr.predict(X_test)"
   ]
  },
  {
   "cell_type": "code",
   "execution_count": 87,
   "metadata": {},
   "outputs": [
    {
     "name": "stdout",
     "output_type": "stream",
     "text": [
      "0.7547284190106692\n",
      "[[ 401   50   73   18  162]\n",
      " [  94   25   58   10   87]\n",
      " [ 119   35  142   57  218]\n",
      " [  32   14   43   92  761]\n",
      " [  25    8   45  114 5565]]\n",
      "              precision    recall  f1-score   support\n",
      "\n",
      "           1       0.60      0.57      0.58       704\n",
      "           2       0.19      0.09      0.12       274\n",
      "           3       0.39      0.25      0.30       571\n",
      "           4       0.32      0.10      0.15       942\n",
      "           5       0.82      0.97      0.89      5757\n",
      "\n",
      "    accuracy                           0.75      8248\n",
      "   macro avg       0.46      0.39      0.41      8248\n",
      "weighted avg       0.69      0.75      0.71      8248\n",
      "\n"
     ]
    }
   ],
   "source": [
    "print(accuracy_score(y_test, y_pred))\n",
    "print(confusion_matrix(y_test, y_pred))\n",
    "print(classification_report(y_test, y_pred))"
   ]
  },
  {
   "cell_type": "markdown",
   "metadata": {},
   "source": [
    "Yüksek precision, modelin düşük yanlış pozitif oranına sahip olduğunu gösterir. <br><br>\n",
    "Recall (Duyarlılık): Gerçek pozitiflerin ne kadarının doğru tahmin edildiğini gösterir. Yüksek recall, modelin düşük yanlış negatif oranına sahip olduğunu gösterir. <br><br>\n",
    "F1-Score (F1-Skoru): Precision ve recall'in harmonik ortalamasıdır. Dengeli bir performans ölçüsüdür ve her iki metriği de dikkate alır. <br><br>\n",
    "Support (Destek): Her sınıftaki gerçek örnek sayısını belirtir."
   ]
  },
  {
   "cell_type": "code",
   "execution_count": 88,
   "metadata": {},
   "outputs": [],
   "source": [
    "#SGD Classifier\n",
    "sgd = SGDClassifier()\n",
    "sgd.fit(X_train, y_train)\n",
    "y_pred = sgd.predict(X_test)"
   ]
  },
  {
   "cell_type": "code",
   "execution_count": 89,
   "metadata": {},
   "outputs": [
    {
     "name": "stdout",
     "output_type": "stream",
     "text": [
      "0.7546071774975752\n",
      "[[ 411   40   65    9  179]\n",
      " [ 105   18   49    9   93]\n",
      " [ 131   31  134   28  247]\n",
      " [  41   12   55   52  782]\n",
      " [  35   11   41   61 5609]]\n",
      "              precision    recall  f1-score   support\n",
      "\n",
      "           1       0.57      0.58      0.58       704\n",
      "           2       0.16      0.07      0.09       274\n",
      "           3       0.39      0.23      0.29       571\n",
      "           4       0.33      0.06      0.09       942\n",
      "           5       0.81      0.97      0.89      5757\n",
      "\n",
      "    accuracy                           0.75      8248\n",
      "   macro avg       0.45      0.38      0.39      8248\n",
      "weighted avg       0.68      0.75      0.70      8248\n",
      "\n"
     ]
    }
   ],
   "source": [
    "print(accuracy_score(y_test, y_pred))\n",
    "print(confusion_matrix(y_test, y_pred))\n",
    "print(classification_report(y_test, y_pred))"
   ]
  },
  {
   "cell_type": "markdown",
   "metadata": {},
   "source": [
    "En yüksek accuracy değeri Logistic Regression’a ait.\n"
   ]
  }
 ],
 "metadata": {
  "kernelspec": {
   "display_name": "Python 3",
   "language": "python",
   "name": "python3"
  },
  "language_info": {
   "codemirror_mode": {
    "name": "ipython",
    "version": 3
   },
   "file_extension": ".py",
   "mimetype": "text/x-python",
   "name": "python",
   "nbconvert_exporter": "python",
   "pygments_lexer": "ipython3",
   "version": "3.12.5"
  }
 },
 "nbformat": 4,
 "nbformat_minor": 2
}
