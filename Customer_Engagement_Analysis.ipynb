{
 "cells": [
  {
   "cell_type": "code",
   "execution_count": 60,
   "metadata": {},
   "outputs": [],
   "source": [
    "import pandas as pd\n",
    "import matplotlib.pyplot as plt"
   ]
  },
  {
   "cell_type": "code",
   "execution_count": 61,
   "metadata": {},
   "outputs": [],
   "source": [
    "df = pd.read_csv('fashionnova_reviews.csv')"
   ]
  },
  {
   "cell_type": "code",
   "execution_count": 62,
   "metadata": {},
   "outputs": [],
   "source": [
    "top_reviewers = df.groupby('Profile Link')['Review Count'].sum().sort_values(ascending=False)"
   ]
  },
  {
   "cell_type": "code",
   "execution_count": 63,
   "metadata": {},
   "outputs": [
    {
     "name": "stdout",
     "output_type": "stream",
     "text": [
      "Profile Link\n",
      "/users/5c413ddc4c22a57c81b62b74    9 reviews\n",
      "/users/5c360db3ae522dcd5256de51    9 reviews\n",
      "/users/5ad470504de5666d34a367a4    9 reviews\n",
      "/users/5ad772dd4de5666d34eb10ee    9 reviews\n",
      "/users/5dcd9c5301e34aed03757221    9 reviews\n",
      "/users/5dcd7b5402f86e043a92a17f    9 reviews\n",
      "/users/5f70eb622c222c1f4f82e47d    9 reviews\n",
      "/users/5f72a3e0b3a7f13c534c5e43    9 reviews\n",
      "/users/625025df15a9390012d5dc7f    9 reviews\n",
      "/users/56a7e88a0000ff000a002aae    9 reviews\n",
      "Name: Review Count, dtype: object\n"
     ]
    }
   ],
   "source": [
    "print(top_reviewers.head(10))"
   ]
  },
  {
   "cell_type": "markdown",
   "metadata": {},
   "source": [
    "Makine öğrenmesi"
   ]
  },
  {
   "cell_type": "code",
   "execution_count": 64,
   "metadata": {},
   "outputs": [],
   "source": [
    "from sklearn.cluster import KMeans\n",
    "from sklearn.preprocessing import StandardScaler\n",
    "import pandas as pd\n",
    "import re"
   ]
  },
  {
   "cell_type": "code",
   "execution_count": 65,
   "metadata": {},
   "outputs": [],
   "source": [
    "df = df[['Country', 'Review Count']]\n",
    "df.dropna(subset=['Review Count'], inplace=True)"
   ]
  },
  {
   "cell_type": "code",
   "execution_count": 66,
   "metadata": {},
   "outputs": [],
   "source": [
    "def extract_number(text):\n",
    "    if isinstance(text, str):\n",
    "        match = re.search(r'(\\d+)', text)\n",
    "        return int(match.group(1)) if match else None\n",
    "    return None"
   ]
  },
  {
   "cell_type": "code",
   "execution_count": 67,
   "metadata": {},
   "outputs": [],
   "source": [
    "df['Review Count'] = df['Review Count'].apply(extract_number)\n",
    "df.dropna(subset=['Review Count'], inplace=True)"
   ]
  },
  {
   "cell_type": "code",
   "execution_count": 68,
   "metadata": {},
   "outputs": [],
   "source": [
    "scaler = StandardScaler()\n",
    "scaled_features = scaler.fit_transform(df[['Review Count']])\n"
   ]
  },
  {
   "cell_type": "code",
   "execution_count": 69,
   "metadata": {},
   "outputs": [],
   "source": [
    "kmeans = KMeans(n_clusters=3, random_state=42)\n",
    "df['Cluster'] = kmeans.fit_predict(scaled_features)"
   ]
  },
  {
   "cell_type": "code",
   "execution_count": 72,
   "metadata": {},
   "outputs": [
    {
     "name": "stdout",
     "output_type": "stream",
     "text": [
      "         Review Count\n",
      "Cluster              \n",
      "0            1.206323\n",
      "1            4.201840\n",
      "2           53.651163\n"
     ]
    }
   ],
   "source": [
    "# Basit bir gruplama ve ortalama test edin\n",
    "print(df.groupby('Cluster').agg({'Review Count': 'mean'}))\n"
   ]
  },
  {
   "cell_type": "code",
   "execution_count": 74,
   "metadata": {},
   "outputs": [
    {
     "name": "stdout",
     "output_type": "stream",
     "text": [
      "Country  Cluster\n",
      "AE       0          1.196429\n",
      "         1          5.250000\n",
      "AF       0          2.000000\n",
      "AG       0          1.179487\n",
      "         1          3.333333\n",
      "                      ...   \n",
      "ZA       0          1.156627\n",
      "         1          4.200000\n",
      "ZM       0          1.222222\n",
      "         1          4.000000\n",
      "ZW       0          1.500000\n",
      "Name: Review Count, Length: 299, dtype: float64\n"
     ]
    }
   ],
   "source": [
    "print(df.groupby(['Country', 'Cluster'])['Review Count'].mean())\n"
   ]
  }
 ],
 "metadata": {
  "kernelspec": {
   "display_name": "Python 3",
   "language": "python",
   "name": "python3"
  },
  "language_info": {
   "codemirror_mode": {
    "name": "ipython",
    "version": 3
   },
   "file_extension": ".py",
   "mimetype": "text/x-python",
   "name": "python",
   "nbconvert_exporter": "python",
   "pygments_lexer": "ipython3",
   "version": "3.12.5"
  }
 },
 "nbformat": 4,
 "nbformat_minor": 2
}
